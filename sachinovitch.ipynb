{
 "cells": [
  {
   "cell_type": "code",
   "execution_count": 28,
   "metadata": {},
   "outputs": [],
   "source": [
    "import requests\n",
    "from bs4 import BeautifulSoup"
   ]
  },
  {
   "cell_type": "code",
   "execution_count": 2,
   "metadata": {},
   "outputs": [
    {
     "ename": "NameError",
     "evalue": "name 'requests' is not defined",
     "output_type": "error",
     "traceback": [
      "\u001b[1;31m---------------------------------------------------------------------------\u001b[0m",
      "\u001b[1;31mNameError\u001b[0m                                 Traceback (most recent call last)",
      "Cell \u001b[1;32mIn[2], line 2\u001b[0m\n\u001b[0;32m      1\u001b[0m root_url \u001b[39m=\u001b[39m \u001b[39m'\u001b[39m\u001b[39mhttps://www.immoweb.be/en/classified/exceptional-property/for-sale/uccle/1180/10614263\u001b[39m\u001b[39m'\u001b[39m\n\u001b[1;32m----> 2\u001b[0m root_req \u001b[39m=\u001b[39m requests\u001b[39m.\u001b[39mget(root_url)\n\u001b[0;32m      3\u001b[0m root_html \u001b[39m=\u001b[39m root_req\u001b[39m.\u001b[39mcontent\n\u001b[0;32m      4\u001b[0m soup \u001b[39m=\u001b[39m BeautifulSoup(root_html, \u001b[39m\"\u001b[39m\u001b[39mhtml.parser\u001b[39m\u001b[39m\"\u001b[39m)\n",
      "\u001b[1;31mNameError\u001b[0m: name 'requests' is not defined"
     ]
    }
   ],
   "source": [
    "root_url = 'https://www.immoweb.be/en/classified/exceptional-property/for-sale/uccle/1180/10614263'\n",
    "root_req = requests.get(root_url)\n",
    "root_html = root_req.content\n",
    "soup = BeautifulSoup(root_html, \"html.parser\")\n",
    "house_listings = soup.find_all('td',attrs={'class':'classified-table__data'})\n",
    "for val in house_listings:\n",
    "    print(val.get_text(strip=True))\n",
    "\n",
    "'''house_listings = soup.find(id = 'accordion_ad154d05-b63a-4fcd-8b95-d141c6524c44')\n",
    "values = house_listings.find_all('td', attrs={\"class\":'classified-table__data'})\n",
    "print(len(values))'''\n",
    "\n"
   ]
  },
  {
   "cell_type": "code",
   "execution_count": null,
   "metadata": {},
   "outputs": [],
   "source": []
  }
 ],
 "metadata": {
  "kernelspec": {
   "display_name": "Python 3",
   "language": "python",
   "name": "python3"
  },
  "language_info": {
   "codemirror_mode": {
    "name": "ipython",
    "version": 3
   },
   "file_extension": ".py",
   "mimetype": "text/x-python",
   "name": "python",
   "nbconvert_exporter": "python",
   "pygments_lexer": "ipython3",
   "version": "3.11.4"
  },
  "orig_nbformat": 4
 },
 "nbformat": 4,
 "nbformat_minor": 2
}
