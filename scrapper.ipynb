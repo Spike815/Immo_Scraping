{
 "cells": [
  {
   "cell_type": "code",
   "execution_count": 14,
   "metadata": {},
   "outputs": [],
   "source": [
    "from bs4 import BeautifulSoup\n",
    "import requests\n",
    "import json\n",
    "from requests import Session\n",
    "import re\n",
    "\n",
    "def get_house():\n",
    "    pass\n",
    "    \"\"\"\n",
    "\n",
    "  \"\"\"\n",
    "root_url = \"https://www.immoweb.be/en/classified/penthouse/for-sale/gent/9000/10611711\"\n",
    "\n",
    "def get_house_info(url):\n",
    "    s = requests.Session()\n",
    "    house_info = s.get(url)\n",
    "    soup = BeautifulSoup(house_info.text, \"html.parser\")\n",
    " \n",
    "\n",
    "    house_info={}\n",
    "    #Captures {<any text>} within window.classified\n",
    "    regex = r\"window.classified = (\\{.*\\})\"\n",
    "    \n",
    "    #returns a list containing {<any text}\n",
    "    script_text=soup.find('div',attrs={\"id\":\"main-container\"}).script.text\n",
    "    #applies regex to scrip_text\n",
    "    script_after_regex = re.findall(regex, script_text)\n",
    "    \n",
    "    #returns first element of script_after_regex (full clustered dictionary of property attributes)\n",
    "    script_text_dict = json.loads(script_after_regex[0])\n",
    "    house_info['id']= script_text_dict['id']\n",
    "    properties = script_text_dict['property']\n",
    "    house_info['type'] = properties['type']\n",
    "    house_info['subtype'] = properties['subtype']\n",
    "    house_info['locality'] = properties['location']['locality']\n",
    "    house_info['price'] = script_text_dict['price']['mainValue']\n",
    "    house_info['sale type'] = script_text_dict['price']['type']\n",
    "    house_info['number of bedrooms'] = properties['bedroomCount']\n",
    "    house_info['living room area'] = properties['livingRoom']['surface']\n",
    "    house_info['kitchen status'] = script_text_dict['property']['kitchen']['type']\n",
    "    house_info['furnished'] = script_text_dict['transaction']['sale']['isFurnished']\n",
    "    house_info['fireplace'] = properties['fireplaceExists']\n",
    "    house_info['terrace'] = properties['hasTerrace']\n",
    "    if properties['hasTerrace'] != None:\n",
    "        house_info['terrace area'] = properties['terraceSurface']\n",
    "    else:\n",
    "        pass\n",
    "    house_info['garden'] = properties['hasGarden']\n",
    "    if properties['hasGarden'] != None:\n",
    "        house_info['garden area'] = properties['gardenSurface']\n",
    "    else:\n",
    "        pass\n",
    "    house_info['total property area'] = properties['netHabitableSurface']\n",
    "    if properties['land'] in properties:\n",
    "        house_info['total land area'] = properties['land']['surface']\n",
    "    else:\n",
    "        pass\n",
    "    house_info['facades'] = properties['building']['facadeCount']\n",
    "    house_info['swimming pool'] = properties['hasSwimmingPool']\n",
    "    house_info['current state'] = properties['building']['condition']\n",
    "\n",
    "    print(house_info)"
   ]
  },
  {
   "attachments": {},
   "cell_type": "markdown",
   "metadata": {},
   "source": [
    "#### Attributes to include in a single property's data.\n",
    "* Locality\n",
    "* Type of property (House/apartment)\n",
    "* Subtype of property (Bungalow, Chalet, Mansion, ...)\n",
    "* Price\n",
    "* Type of sale (Exclusion of life sales)\n",
    "* Number of bedrooms\n",
    "* Living Area\n",
    "* Fully equipped kitchen (Yes/No)\n",
    "* Furnished (Yes/No)\n",
    "* Open fire (Yes/No)\n",
    "* Terrace (Yes/No)\n",
    "* If yes: Area\n",
    "* Garden (Yes/No)\n",
    "* If yes: Area\n",
    "* Surface of the land\n",
    "  * Surface area of the plot of land \n",
    "* Number of facades\n",
    "* Swimming pool (Yes/No)\n",
    "* State of the building (New, to be renovated, ...)"
   ]
  },
  {
   "cell_type": "code",
   "execution_count": 15,
   "metadata": {},
   "outputs": [
    {
     "name": "stdout",
     "output_type": "stream",
     "text": [
      "{'id': 10611711, 'type': 'APARTMENT', 'subtype': 'PENTHOUSE', 'locality': 'Gent', 'price': 480000, 'sale type': 'residential_sale', 'number of bedrooms': 3, 'living room area': 25, 'kitchen status': 'INSTALLED', 'furnished': None, 'fireplace': True, 'terrace': True, 'terrace area': 13, 'garden': None, 'total property area': 180, 'facades': 4, 'swimming pool': False, 'current state': 'TO_BE_DONE_UP'}\n"
     ]
    }
   ],
   "source": [
    "get_house_info(root_url)"
   ]
  },
  {
   "cell_type": "code",
   "execution_count": null,
   "metadata": {},
   "outputs": [],
   "source": []
  },
  {
   "cell_type": "code",
   "execution_count": 11,
   "metadata": {},
   "outputs": [],
   "source": [
    "def get_url():\n",
    "    i = 1\n",
    "    root_house_list_url = f\"https://www.immoweb.be/en/search/house/for-sale?countries=BE&isNewlyBuilt=false&isALifeAnnuitySale=false&isAPublicSale=false&page={i}&orderBy=relevance\"\n",
    "    s = requests.Session()\n",
    "    house_list = s.get(root_house_list_url)\n",
    "    soup = BeautifulSoup(house_list.text, \"html.parser\")\n",
    "    url_list = []\n",
    "\n",
    "    for block in soup.find_all(\"h2\",{'class':\"card__title card--result__title\"}):\n",
    "        tag_a = block.find('a')['href']\n",
    "        url_list.append(tag_a)\n",
    "        print(tag_a)\n"
   ]
  },
  {
   "cell_type": "code",
   "execution_count": 12,
   "metadata": {},
   "outputs": [
    {
     "name": "stdout",
     "output_type": "stream",
     "text": [
      "https://www.immoweb.be/en/classified/house/for-sale/rixensart/1330/10657873\n",
      "https://www.immoweb.be/en/classified/mixed-use-building/for-sale/dendermonde/9200/10659705\n",
      "https://www.immoweb.be/en/classified/house/for-sale/rixensart%20genval/1332/10657583\n",
      "https://www.immoweb.be/en/classified/house/for-sale/waterloo/1410/10657514\n",
      "https://www.immoweb.be/en/classified/house/for-sale/braine-l%27alleud/1420/10657515\n",
      "https://www.immoweb.be/en/classified/bungalow/for-sale/beersel/1652/10656932\n",
      "https://www.immoweb.be/en/classified/house/for-sale/rhode-saint-genese/1640/10656226\n",
      "https://www.immoweb.be/en/classified/house/for-sale/ixelles/1050/10657189\n",
      "https://www.immoweb.be/en/classified/house/for-sale/crisn%C3%A9e/4367/10321179\n",
      "https://www.immoweb.be/en/classified/town-house/for-sale/li%C3%A8ge/4020/10655029\n",
      "https://www.immoweb.be/en/classified/house/for-sale/donceel/4357/10563785\n",
      "https://www.immoweb.be/en/classified/house/for-sale/oupeye%20heure-le-romain/4682/10654294\n",
      "https://www.immoweb.be/en/classified/exceptional-property/for-sale/anderlecht/1070/10654309\n",
      "https://www.immoweb.be/en/classified/mansion/for-sale/bruxelles/1000/10653822\n",
      "https://www.immoweb.be/en/classified/house/for-sale/liege/4000/10651408\n",
      "https://www.immoweb.be/en/classified/town-house/for-sale/liege/4000/10651068\n",
      "https://www.immoweb.be/en/classified/house/for-sale/ronse/9600/10650938\n",
      "https://www.immoweb.be/en/classified/house/for-sale/welkenraedt/4841/10651409\n",
      "https://www.immoweb.be/en/classified/house/for-sale/gooik/1755/10417975\n",
      "https://www.immoweb.be/en/classified/villa/for-sale/chaumont-gistoux/1325/10650920\n",
      "https://www.immoweb.be/en/classified/villa/for-sale/aywaille/4920/10651067\n",
      "https://www.immoweb.be/en/classified/mixed-use-building/for-sale/oud-heverlee/3050/10651623\n",
      "https://www.immoweb.be/en/classified/house/for-sale/machelen%20%28vlaams-brabant%29/1830/10652807\n",
      "https://www.immoweb.be/en/classified/house/for-sale/lievegem/9930/10651256\n",
      "https://www.immoweb.be/en/classified/villa/for-sale/oud-heverlee%20%28blanden%29/3052/10650829\n",
      "https://www.immoweb.be/en/classified/house/for-sale/woluwe-saint-pierre/1150/10653112\n",
      "https://www.immoweb.be/en/classified/exceptional-property/for-sale/brugge/8000/10650668\n",
      "https://www.immoweb.be/en/classified/villa/for-sale/rixensart/1332/10657786\n",
      "https://www.immoweb.be/en/classified/house/for-sale/remicourt/4350/10648897\n",
      "https://www.immoweb.be/en/classified/house/for-sale/dilbeek/1702/10648597\n"
     ]
    }
   ],
   "source": [
    "get_url()"
   ]
  }
 ],
 "metadata": {
  "kernelspec": {
   "display_name": "immovenv",
   "language": "python",
   "name": "python3"
  },
  "language_info": {
   "codemirror_mode": {
    "name": "ipython",
    "version": 3
   },
   "file_extension": ".py",
   "mimetype": "text/x-python",
   "name": "python",
   "nbconvert_exporter": "python",
   "pygments_lexer": "ipython3",
   "version": "3.11.4"
  },
  "orig_nbformat": 4
 },
 "nbformat": 4,
 "nbformat_minor": 2
}
