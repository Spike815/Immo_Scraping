{
 "cells": [
  {
   "cell_type": "code",
   "execution_count": 95,
   "metadata": {},
   "outputs": [],
   "source": [
    "from bs4 import BeautifulSoup\n",
    "import requests\n",
    "import json\n",
    "from requests import Session\n",
    "import re\n",
    "\n",
    "def get_house():\n",
    "    pass\n",
    "    \"\"\"\n",
    "\n",
    "  \"\"\"\n",
    "root_url = \"https://www.immoweb.be/en/classified/penthouse/for-sale/gent/9000/10611711\"\n",
    "\n",
    "def get_house_info(url):\n",
    "    s = requests.Session()\n",
    "    house_info = s.get(url)\n",
    "    soup = BeautifulSoup(house_info.text, \"html.parser\")\n",
    " \n",
    "    #\n",
    "    house_info={}\n",
    "    regex = r\"window.classified = (\\{.*\\})\"\n",
    "    script_text=soup.find('div',attrs={\"id\":\"main-container\"}).script.text\n",
    "    script_after_regex = re.findall(regex, script_text)\n",
    "    \n",
    "    script_text_dict = json.loads(script_after_regex[0])\n",
    "    house_info['id']= script_text_dict['id']\n",
    "    properties = script_text_dict['property']\n",
    "    house_info['type'] = properties['type']\n",
    "    house_info['subtype'] = properties['subtype']\n",
    "    house_info['locality'] = properties['location']['locality']\n",
    "    \n",
    "    print(house_info)"
   ]
  },
  {
   "attachments": {},
   "cell_type": "markdown",
   "metadata": {},
   "source": [
    "#property to include in a house:Locality\n",
    "Type of property (House/apartment)\n",
    "Subtype of property (Bungalow, Chalet, Mansion, ...)\n",
    "Price\n",
    "Type of sale (Exclusion of life sales)\n",
    "Number of rooms\n",
    "Living Area\n",
    "Fully equipped kitchen (Yes/No)\n",
    "Furnished (Yes/No)\n",
    "Open fire (Yes/No)\n",
    "Terrace (Yes/No)\n",
    "If yes: Area\n",
    "Garden (Yes/No)\n",
    "If yes: Area\n",
    "Surface of the land\n",
    "Surface area of the plot of land\n",
    "Number of facades\n",
    "Swimming pool (Yes/No)\n",
    "State of the building (New, to be renovated, ...)"
   ]
  },
  {
   "cell_type": "code",
   "execution_count": 96,
   "metadata": {},
   "outputs": [
    {
     "name": "stdout",
     "output_type": "stream",
     "text": [
      "{'id': 10611711, 'type': 'APARTMENT', 'subtype': 'PENTHOUSE', 'location': {'country': 'Belgium', 'region': 'Flanders', 'province': 'East Flanders', 'district': 'Gent', 'locality': 'Gent', 'postalCode': '9000', 'street': 'Achilles Musschestraat', 'number': '56', 'box': None, 'propertyName': None, 'floor': 2, 'latitude': 51.032333, 'longitude': 3.7221884, 'distance': None, 'approximated': None, 'regionCode': 'FLANDERS', 'type': 'LANDSCAPE', 'hasSeaView': None, 'pointsOfInterest': [{'type': 'SCHOOL', 'distance': 0}, {'type': 'SHOPS', 'distance': 0}, {'type': 'TRANSPORT', 'distance': 0}], 'placeName': None}}\n"
     ]
    }
   ],
   "source": [
    "get_house_info(root_url)"
   ]
  },
  {
   "cell_type": "code",
   "execution_count": null,
   "metadata": {},
   "outputs": [],
   "source": []
  }
 ],
 "metadata": {
  "kernelspec": {
   "display_name": "immovenv",
   "language": "python",
   "name": "python3"
  },
  "language_info": {
   "codemirror_mode": {
    "name": "ipython",
    "version": 3
   },
   "file_extension": ".py",
   "mimetype": "text/x-python",
   "name": "python",
   "nbconvert_exporter": "python",
   "pygments_lexer": "ipython3",
   "version": "3.11.3"
  },
  "orig_nbformat": 4
 },
 "nbformat": 4,
 "nbformat_minor": 2
}
