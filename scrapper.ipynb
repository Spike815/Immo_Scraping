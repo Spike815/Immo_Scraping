{
 "cells": [
  {
   "cell_type": "code",
   "execution_count": 4,
   "metadata": {},
   "outputs": [],
   "source": [
    "from bs4 import BeautifulSoup\n",
    "import requests\n",
    "import json\n",
    "from requests import Session\n",
    "import re\n",
    "\n",
    "def get_house():\n",
    "    pass\n",
    "    \"\"\"\n",
    "\n",
    "  \"\"\"\n",
    "root_url = \"https://www.immoweb.be/en/classified/penthouse/for-sale/gent/9000/10611711\"\n",
    "\n",
    "def get_house_info(url):\n",
    "    s = requests.Session()\n",
    "    house_info = s.get(url)\n",
    "    soup = BeautifulSoup(house_info.text, \"html.parser\")\n",
    " \n",
    "    #\n",
    "    house_info={}\n",
    "    regex = r\"window.classified = (\\{.*\\})\"\n",
    "    script_text=soup.find('div',attrs={\"id\":\"main-container\"}).script.text\n",
    "    script_after_regex = re.findall(regex, script_text)\n",
    "    \n",
    "    script_text_dict = json.loads(script_after_regex[0])\n",
    "    house_info['id']= script_text_dict['id']\n",
    "    properties = script_text_dict['property']\n",
    "    house_info['type'] = properties['type']\n",
    "    house_info['subtype'] = properties['subtype']\n",
    "    house_info['locality'] = properties['location']['locality']\n",
    "    \n",
    "    print(script_text_dict )"
   ]
  },
  {
   "attachments": {},
   "cell_type": "markdown",
   "metadata": {},
   "source": [
    "#property to include in a house:Locality\n",
    "Type of property (House/apartment)\n",
    "Subtype of property (Bungalow, Chalet, Mansion, ...)\n",
    "Price\n",
    "Type of sale (Exclusion of life sales)\n",
    "Number of rooms\n",
    "Living Area\n",
    "Fully equipped kitchen (Yes/No)\n",
    "Furnished (Yes/No)\n",
    "Open fire (Yes/No)\n",
    "Terrace (Yes/No)\n",
    "If yes: Area\n",
    "Garden (Yes/No)\n",
    "If yes: Area\n",
    "Surface of the land\n",
    "Surface area of the plot of land\n",
    "Number of facades\n",
    "Swimming pool (Yes/No)\n",
    "State of the building (New, to be renovated, ...)"
   ]
  },
  {
   "cell_type": "code",
   "execution_count": 5,
   "metadata": {},
   "outputs": [
    {
     "name": "stdout",
     "output_type": "stream",
     "text": [
      "{'id': 10611711, 'cluster': None, 'customers': [{'id': 1108182, 'type': 'PRIVATE', 'email': None, 'logoUrl': None, 'phoneNumber': None, 'mobileNumber': '+32488 155313', 'name': None, 'website': None, 'location': {'country': None, 'region': None, 'province': None, 'district': None, 'locality': None, 'postalCode': None, 'street': None, 'number': None, 'box': None, 'propertyName': None, 'floor': None, 'latitude': None, 'longitude': None, 'distance': None, 'approximated': None, 'regionCode': None, 'type': None, 'hasSeaView': None, 'pointsOfInterest': None, 'placeName': None}, 'ipiNo': None, 'isOwner': True, 'contactHoursMobile': None, 'contactHoursLandline': None, 'salesRepresentative': None, 'features': {'page404': False, 'investorFlag': False, 'relatedClassifieds': False, 'leafletsCTA': False, 'leadQualification': False, 'recommendation': False}}], 'premiumProjectPage': {'medias': None, 'options': None, 'promoter': None, 'tabs': None}, 'flags': {'isPublicSale': False, 'isNewClassified': False, 'isNewPrice': False, 'isInvestmentProject': False, 'isNewlyBuilt': False, 'isNotarySale': None, 'isLifeAnnuitySale': False, 'adQuality': None, 'date': None, 'priceSqm': None, 'price': None, 'default': None, 'isSoldOrRented': False, 'isLowEnergy': None, 'percentSold': None, 'isPassiveHouse': None, 'isNewRealEstateProject': False, 'isAnInteractiveSale': None, 'isUnderOption': False}, 'media': {'pictures': [{'smallUrl': 'https://media-resize.immowebstatic.be/classifieds/ae396dba-6247-4ffb-a869-055ed3b05781/100x100/312ab375e2bdb1d9e212d413845de518.jpg?cache=20230622183300', 'mediumUrl': 'https://media-resize.immowebstatic.be/classifieds/ae396dba-6247-4ffb-a869-055ed3b05781/300x300/312ab375e2bdb1d9e212d413845de518.jpg?cache=20230622183300', 'largeUrl': 'https://media-resize.immowebstatic.be/classifieds/ae396dba-6247-4ffb-a869-055ed3b05781/736x736/312ab375e2bdb1d9e212d413845de518.jpg?cache=20230622183300', 'isVertical': False}, {'smallUrl': 'https://media-resize.immowebstatic.be/classifieds/ae396dba-6247-4ffb-a869-055ed3b05781/100x100/411b88f444eb64888280d887a44fdfca.jpg?cache=20230622183300', 'mediumUrl': 'https://media-resize.immowebstatic.be/classifieds/ae396dba-6247-4ffb-a869-055ed3b05781/300x300/411b88f444eb64888280d887a44fdfca.jpg?cache=20230622183300', 'largeUrl': 'https://media-resize.immowebstatic.be/classifieds/ae396dba-6247-4ffb-a869-055ed3b05781/736x736/411b88f444eb64888280d887a44fdfca.jpg?cache=20230622183300', 'isVertical': False}, {'smallUrl': 'https://media-resize.immowebstatic.be/classifieds/ae396dba-6247-4ffb-a869-055ed3b05781/100x100/f4b322f5425d4979364c3026366ca7cc.jpg?cache=20230622183300', 'mediumUrl': 'https://media-resize.immowebstatic.be/classifieds/ae396dba-6247-4ffb-a869-055ed3b05781/300x300/f4b322f5425d4979364c3026366ca7cc.jpg?cache=20230622183300', 'largeUrl': 'https://media-resize.immowebstatic.be/classifieds/ae396dba-6247-4ffb-a869-055ed3b05781/736x736/f4b322f5425d4979364c3026366ca7cc.jpg?cache=20230622183300', 'isVertical': False}, {'smallUrl': 'https://media-resize.immowebstatic.be/classifieds/ae396dba-6247-4ffb-a869-055ed3b05781/100x100/d2aa19ee29e5f083d1f1cfa3755b1591.jpg?cache=20230622183300', 'mediumUrl': 'https://media-resize.immowebstatic.be/classifieds/ae396dba-6247-4ffb-a869-055ed3b05781/300x300/d2aa19ee29e5f083d1f1cfa3755b1591.jpg?cache=20230622183300', 'largeUrl': 'https://media-resize.immowebstatic.be/classifieds/ae396dba-6247-4ffb-a869-055ed3b05781/736x736/d2aa19ee29e5f083d1f1cfa3755b1591.jpg?cache=20230622183300', 'isVertical': False}, {'smallUrl': 'https://media-resize.immowebstatic.be/classifieds/ae396dba-6247-4ffb-a869-055ed3b05781/100x100/61e2109da7d8d06dd5c8162464024ad7.jpg?cache=20230622183300', 'mediumUrl': 'https://media-resize.immowebstatic.be/classifieds/ae396dba-6247-4ffb-a869-055ed3b05781/300x300/61e2109da7d8d06dd5c8162464024ad7.jpg?cache=20230622183300', 'largeUrl': 'https://media-resize.immowebstatic.be/classifieds/ae396dba-6247-4ffb-a869-055ed3b05781/736x736/61e2109da7d8d06dd5c8162464024ad7.jpg?cache=20230622183300', 'isVertical': False}, {'smallUrl': 'https://media-resize.immowebstatic.be/classifieds/ae396dba-6247-4ffb-a869-055ed3b05781/100x100/e566f10a194171fa297d55aaa8e8ffc7.jpg?cache=20230622183300', 'mediumUrl': 'https://media-resize.immowebstatic.be/classifieds/ae396dba-6247-4ffb-a869-055ed3b05781/300x300/e566f10a194171fa297d55aaa8e8ffc7.jpg?cache=20230622183300', 'largeUrl': 'https://media-resize.immowebstatic.be/classifieds/ae396dba-6247-4ffb-a869-055ed3b05781/736x736/e566f10a194171fa297d55aaa8e8ffc7.jpg?cache=20230622183300', 'isVertical': True}, {'smallUrl': 'https://media-resize.immowebstatic.be/classifieds/ae396dba-6247-4ffb-a869-055ed3b05781/100x100/4b8d83b8ce025354f2f7af084180275c.jpg?cache=20230622183300', 'mediumUrl': 'https://media-resize.immowebstatic.be/classifieds/ae396dba-6247-4ffb-a869-055ed3b05781/300x300/4b8d83b8ce025354f2f7af084180275c.jpg?cache=20230622183300', 'largeUrl': 'https://media-resize.immowebstatic.be/classifieds/ae396dba-6247-4ffb-a869-055ed3b05781/736x736/4b8d83b8ce025354f2f7af084180275c.jpg?cache=20230622183300', 'isVertical': True}, {'smallUrl': 'https://media-resize.immowebstatic.be/classifieds/ae396dba-6247-4ffb-a869-055ed3b05781/100x100/717dc338638bbd1583fe26f20541ba47.jpg?cache=20230622183300', 'mediumUrl': 'https://media-resize.immowebstatic.be/classifieds/ae396dba-6247-4ffb-a869-055ed3b05781/300x300/717dc338638bbd1583fe26f20541ba47.jpg?cache=20230622183300', 'largeUrl': 'https://media-resize.immowebstatic.be/classifieds/ae396dba-6247-4ffb-a869-055ed3b05781/736x736/717dc338638bbd1583fe26f20541ba47.jpg?cache=20230622183300', 'isVertical': True}, {'smallUrl': 'https://media-resize.immowebstatic.be/classifieds/ae396dba-6247-4ffb-a869-055ed3b05781/100x100/e96cf41cf1a9eef48ce4ee6aeab910af.jpg?cache=20230622183300', 'mediumUrl': 'https://media-resize.immowebstatic.be/classifieds/ae396dba-6247-4ffb-a869-055ed3b05781/300x300/e96cf41cf1a9eef48ce4ee6aeab910af.jpg?cache=20230622183300', 'largeUrl': 'https://media-resize.immowebstatic.be/classifieds/ae396dba-6247-4ffb-a869-055ed3b05781/736x736/e96cf41cf1a9eef48ce4ee6aeab910af.jpg?cache=20230622183300', 'isVertical': False}, {'smallUrl': 'https://media-resize.immowebstatic.be/classifieds/ae396dba-6247-4ffb-a869-055ed3b05781/100x100/cd3d3d4681d28ec1a50b79aee3738d0e.jpg?cache=20230622183300', 'mediumUrl': 'https://media-resize.immowebstatic.be/classifieds/ae396dba-6247-4ffb-a869-055ed3b05781/300x300/cd3d3d4681d28ec1a50b79aee3738d0e.jpg?cache=20230622183300', 'largeUrl': 'https://media-resize.immowebstatic.be/classifieds/ae396dba-6247-4ffb-a869-055ed3b05781/736x736/cd3d3d4681d28ec1a50b79aee3738d0e.jpg?cache=20230622183300', 'isVertical': True}, {'smallUrl': 'https://media-resize.immowebstatic.be/classifieds/ae396dba-6247-4ffb-a869-055ed3b05781/100x100/dcbc60abe9f6db79c172b22efe74de9a.jpg?cache=20230622183300', 'mediumUrl': 'https://media-resize.immowebstatic.be/classifieds/ae396dba-6247-4ffb-a869-055ed3b05781/300x300/dcbc60abe9f6db79c172b22efe74de9a.jpg?cache=20230622183300', 'largeUrl': 'https://media-resize.immowebstatic.be/classifieds/ae396dba-6247-4ffb-a869-055ed3b05781/736x736/dcbc60abe9f6db79c172b22efe74de9a.jpg?cache=20230622183300', 'isVertical': False}, {'smallUrl': 'https://media-resize.immowebstatic.be/classifieds/ae396dba-6247-4ffb-a869-055ed3b05781/100x100/39bae1017daaeea23b57e12094315d4e.jpg?cache=20230622183300', 'mediumUrl': 'https://media-resize.immowebstatic.be/classifieds/ae396dba-6247-4ffb-a869-055ed3b05781/300x300/39bae1017daaeea23b57e12094315d4e.jpg?cache=20230622183300', 'largeUrl': 'https://media-resize.immowebstatic.be/classifieds/ae396dba-6247-4ffb-a869-055ed3b05781/736x736/39bae1017daaeea23b57e12094315d4e.jpg?cache=20230622183300', 'isVertical': True}, {'smallUrl': 'https://media-resize.immowebstatic.be/classifieds/ae396dba-6247-4ffb-a869-055ed3b05781/100x100/f00720d49a980db45c8b8cdf82cfa790.jpg?cache=20230622183300', 'mediumUrl': 'https://media-resize.immowebstatic.be/classifieds/ae396dba-6247-4ffb-a869-055ed3b05781/300x300/f00720d49a980db45c8b8cdf82cfa790.jpg?cache=20230622183300', 'largeUrl': 'https://media-resize.immowebstatic.be/classifieds/ae396dba-6247-4ffb-a869-055ed3b05781/736x736/f00720d49a980db45c8b8cdf82cfa790.jpg?cache=20230622183300', 'isVertical': True}, {'smallUrl': 'https://media-resize.immowebstatic.be/classifieds/ae396dba-6247-4ffb-a869-055ed3b05781/100x100/3e6398f44975893d06acceb538c2798e.jpg?cache=20230622183300', 'mediumUrl': 'https://media-resize.immowebstatic.be/classifieds/ae396dba-6247-4ffb-a869-055ed3b05781/300x300/3e6398f44975893d06acceb538c2798e.jpg?cache=20230622183300', 'largeUrl': 'https://media-resize.immowebstatic.be/classifieds/ae396dba-6247-4ffb-a869-055ed3b05781/736x736/3e6398f44975893d06acceb538c2798e.jpg?cache=20230622183300', 'isVertical': True}, {'smallUrl': 'https://media-resize.immowebstatic.be/classifieds/ae396dba-6247-4ffb-a869-055ed3b05781/100x100/c37efc682bf84e4daf874aa18c234a00.jpg?cache=20230622183300', 'mediumUrl': 'https://media-resize.immowebstatic.be/classifieds/ae396dba-6247-4ffb-a869-055ed3b05781/300x300/c37efc682bf84e4daf874aa18c234a00.jpg?cache=20230622183300', 'largeUrl': 'https://media-resize.immowebstatic.be/classifieds/ae396dba-6247-4ffb-a869-055ed3b05781/736x736/c37efc682bf84e4daf874aa18c234a00.jpg?cache=20230622183300', 'isVertical': True}], 'virtualTourUrl': None, 'floorPlans': None, 'specifications': None, 'virtualExperienceUrl': None}, 'property': {'type': 'APARTMENT', 'subtype': 'PENTHOUSE', 'title': None, 'description': None, 'name': None, 'isHolidayProperty': None, 'bedroomCount': 3, 'bedrooms': [{'surface': 20}, {'surface': 15}, {'surface': 10}], 'bathroomCount': 2, 'bathrooms': [], 'location': {'country': 'Belgium', 'region': 'Flanders', 'province': 'East Flanders', 'district': 'Gent', 'locality': 'Gent', 'postalCode': '9000', 'street': 'Achilles Musschestraat', 'number': '56', 'box': None, 'propertyName': None, 'floor': 2, 'latitude': 51.032333, 'longitude': 3.7221884, 'distance': None, 'approximated': None, 'regionCode': 'FLANDERS', 'type': 'LANDSCAPE', 'hasSeaView': None, 'pointsOfInterest': [{'type': 'SCHOOL', 'distance': 0}, {'type': 'SHOPS', 'distance': 0}, {'type': 'TRANSPORT', 'distance': 0}], 'placeName': None}, 'netHabitableSurface': 180, 'roomCount': 9, 'monthlyCosts': None, 'attic': None, 'hasAttic': None, 'basement': {'surface': 17}, 'hasBasement': True, 'hasDressingRoom': False, 'diningRoom': {'surface': None}, 'hasDiningRoom': True, 'building': {'annexCount': None, 'condition': 'TO_BE_DONE_UP', 'constructionYear': 1938, 'facadeCount': 4, 'floorCount': 1, 'streetFacadeWidth': 15}, 'propertyCertificates': {'builtPlanStatus': 'YES_CONFORM', 'globalInsulationLevel': None, 'oilTankCertificateStatus': None, 'primaryEnergyConsumptionLevel': None}, 'hasCaretakerOrConcierge': False, 'hasDisabledAccess': False, 'hasLift': False, 'constructionPermit': {'constructionType': 'ALL_KIND', 'floodZoneType': None, 'isObtained': True, 'hasObligationToConstruct': False, 'hasPlotDivisionAuthorization': None, 'hasPossiblePriorityPurchaseRight': None, 'isBreachingUrbanPlanningRegulation': False, 'floodZoneIconUrl': None, 'totalBuildableGroundFloorSurface': 0, 'urbanPlanningInformation': None}, 'energy': {'heatingType': 'GAS', 'hasHeatPump': False, 'hasPhotovoltaicPanels': False, 'hasThermicPanels': False, 'hasCollectiveWaterHeater': False, 'hasDoubleGlazing': True, 'performance': None}, 'kitchen': {'surface': 12, 'type': 'INSTALLED', 'hasOven': None, 'hasMicroWaveOven': None, 'hasDishwasher': None, 'hasWashingMachine': None, 'hasFridge': None, 'hasFreezer': None, 'hasSteamOven': None}, 'land': None, 'laundryRoom': None, 'hasLaundryRoom': None, 'livingRoom': {'surface': 25}, 'hasLivingRoom': True, 'isFirstOccupation': None, 'hasBalcony': None, 'hasBarbecue': None, 'hasGarden': None, 'gardenSurface': None, 'gardenOrientation': None, 'parkingCountIndoor': 1, 'parkingCountOutdoor': None, 'parkingCountClosedBox': None, 'hasAirConditioning': False, 'hasArmoredDoor': False, 'hasVisiophone': False, 'hasSecureAccessAlarm': False, 'hasCableTV': True, 'hasDoorPhone': True, 'hasInternet': True, 'showerRoomCount': 0, 'showerRooms': [], 'specificities': {'internalFixturesAndFittings': None, 'miscellaneousFixturesAndFittings': None, 'totalFloorSurface': None, 'accessDoorCount': None, 'sectionalDoorCount': None, 'slidingDoorCount': None, 'loadingBayCount': None, 'coveredBaysCount': None, 'loadingBayWithLiftingDeviceCount': None, 'ceilingHeight': None, 'maxAvailableHeight': None, 'minAvailableHeight': None, 'showroomSurface': None, 'hasReceptionDesk': None, 'shopWindowWidth': None, 'hasGoodwill': None, 'goodwillPrice': None, 'hasOffice': False, 'office': None, 'hasWorkspace': False, 'workspace': None}, 'toiletCount': 2, 'toilets': [], 'hasFitnessRoom': None, 'hasTennisCourt': None, 'hasSwimmingPool': False, 'hasSauna': False, 'hasJacuzzi': False, 'hasHammam': None, 'bedroomSurface': None, 'alternativeDescriptions': {'nl': 'Zeer ruim appartement 180 m2 plus grote garage plus 2 kelders te koop in miljoenenkwartier buurt van Gent…gelegen in het groen…met 2op het zuiden gelegen terrassen.  moet opgefrist worden…3 slaapkamers…2 keukens en badkamer…mogelijkheid om op te splitsen..op 8 minuten van station en 10 minuten van UZ. Dicht bij oprit autostrade alle winkels in de omgeving…centrum Gent vlot bereikbaar op 15 minuten…De garage wordt NIET afzonderlijk verkocht  Ik  neem mij de vrijheid om de gegevens van het appartement in een persoonlijk gesprek verder toe te lichten\\n\\nBezoekuren:    Woensdag 15 tot 18 uur na afspraak via bevestigde e-mail\\n\\n                          Eerste bezoekdag: 14/06/23\\n\\n                        Zaterdag 15 tot 18 uur na afspraak via bevestigde e-mail \\n\\n                          Eerste bezoekdag op zaterdag: 17/06/23\\n\\nE-mail adres:    charlespolet@hotmail.com.      0488/155313'}, 'habitableUnitCount': None, 'fireplaceCount': 1, 'fireplaceExists': True, 'hasTerrace': True, 'terraceSurface': 13, 'terraceOrientation': 'SOUTH'}, 'publication': {'creationDate': '2023-06-05T13:31:58.000+0000', 'expirationDate': '2023-08-05T13:31:58.000+0000', 'publisherId': None, 'visualisationOption': 'L', 'lastModificationDate': '2023-06-26T09:10:44.220+0000'}, 'transaction': {'type': 'FOR_SALE', 'subtype': 'BUY_REGULAR', 'availabilityPeriodType': 'IMMEDIATELY', 'availabilityDate': None, 'certificates': {'carbonEmission': None, 'hasElectricalInstallationComplianceCertificate': None, 'primaryEnergyConsumptionPerSqm': None, 'primaryEnergyConsumptionYearly': None, 'epcDescription': None, 'epcReference': None, 'epcScore': None, 'epcUrl': None}, 'rental': None, 'sale': {'price': 480000, 'isSubjectToVat': False, 'cadastralIncome': 976, 'publicSale': None, 'pricePerSqm': None, 'oldPrice': None, 'lifeAnnuity': None, 'hasStartingPrice': False, 'isFurnished': None, 'homeToBuild': None}, 'investor': {'isInvestmentProperty': False, 'currentMonthlyRentalIncome': None, 'currentReturnOnInvestment': None, 'expectedMonthlyRentalIncome': None, 'expectedMonthlyRentalIncomeDescription': None, 'expectedReturnOnInvestment': None, 'habitableUnitCount': None, 'occupancyRate': None}}, 'priceType': None, 'price': {'type': 'residential_sale', 'mainValue': 480000, 'alternativeValue': None, 'additionalValue': None, 'oldValue': None, 'minRangeValue': None, 'maxRangeValue': None, 'mainDisplayPrice': '€480,000', 'HTMLDisplayPrice': '<span aria-hidden=\"true\">€480,000</span>', 'alternativeDisplayPrice': '', 'oldDisplayPrice': None, 'shortDisplayPrice': '€480K', 'accessibilityPrice': '480000€', 'label': 'Price', 'date': None, 'language': 'en'}, 'externalReference': None, 'isBookmarked': False, 'hasSectionsArray': {'hasGeneralSection': True, 'hasInteriorSection': True, 'hasExteriorSection': True, 'hasFacilitiesSection': True, 'hasEnergySection': True, 'hasPlanningSection': True, 'hasFinancialSection': True, 'hasPublicSaleSection': False}, 'unitGroupings': [], 'displayFlags': {'main': None, 'secondary': [], 'percentSold': None}, 'statistics': {'bookmarkCount': 7, 'viewCount': 1196, 'alertPrice': None, 'creationDate': None, 'description': None, 'isAlertEmailSet': None, 'rating': None, 'wasOwnerContacted': None, 'wasPropertyVisited': None}}\n"
     ]
    }
   ],
   "source": [
    "get_house_info(root_url)"
   ]
  },
  {
   "cell_type": "code",
   "execution_count": 11,
   "metadata": {},
   "outputs": [],
   "source": [
    "def get_url():\n",
    "    i = 1\n",
    "    root_house_list_url = f\"https://www.immoweb.be/en/search/house/for-sale?countries=BE&isNewlyBuilt=false&isALifeAnnuitySale=false&isAPublicSale=false&page={i}&orderBy=relevance\"\n",
    "    s = requests.Session()\n",
    "    house_list = s.get(root_house_list_url)\n",
    "    soup = BeautifulSoup(house_list.text, \"html.parser\")\n",
    "    url_list = []\n",
    "\n",
    "    for block in soup.find_all(\"h2\",{'class':\"card__title card--result__title\"}):\n",
    "        tag_a = block.find('a')['href']\n",
    "        url_list.append(tag_a)\n",
    "        print(tag_a)\n"
   ]
  },
  {
   "cell_type": "code",
   "execution_count": 12,
   "metadata": {},
   "outputs": [
    {
     "name": "stdout",
     "output_type": "stream",
     "text": [
      "https://www.immoweb.be/en/classified/house/for-sale/rixensart/1330/10657873\n",
      "https://www.immoweb.be/en/classified/mixed-use-building/for-sale/dendermonde/9200/10659705\n",
      "https://www.immoweb.be/en/classified/house/for-sale/rixensart%20genval/1332/10657583\n",
      "https://www.immoweb.be/en/classified/house/for-sale/waterloo/1410/10657514\n",
      "https://www.immoweb.be/en/classified/house/for-sale/braine-l%27alleud/1420/10657515\n",
      "https://www.immoweb.be/en/classified/bungalow/for-sale/beersel/1652/10656932\n",
      "https://www.immoweb.be/en/classified/house/for-sale/rhode-saint-genese/1640/10656226\n",
      "https://www.immoweb.be/en/classified/house/for-sale/ixelles/1050/10657189\n",
      "https://www.immoweb.be/en/classified/house/for-sale/crisn%C3%A9e/4367/10321179\n",
      "https://www.immoweb.be/en/classified/town-house/for-sale/li%C3%A8ge/4020/10655029\n",
      "https://www.immoweb.be/en/classified/house/for-sale/donceel/4357/10563785\n",
      "https://www.immoweb.be/en/classified/house/for-sale/oupeye%20heure-le-romain/4682/10654294\n",
      "https://www.immoweb.be/en/classified/exceptional-property/for-sale/anderlecht/1070/10654309\n",
      "https://www.immoweb.be/en/classified/mansion/for-sale/bruxelles/1000/10653822\n",
      "https://www.immoweb.be/en/classified/house/for-sale/liege/4000/10651408\n",
      "https://www.immoweb.be/en/classified/town-house/for-sale/liege/4000/10651068\n",
      "https://www.immoweb.be/en/classified/house/for-sale/ronse/9600/10650938\n",
      "https://www.immoweb.be/en/classified/house/for-sale/welkenraedt/4841/10651409\n",
      "https://www.immoweb.be/en/classified/house/for-sale/gooik/1755/10417975\n",
      "https://www.immoweb.be/en/classified/villa/for-sale/chaumont-gistoux/1325/10650920\n",
      "https://www.immoweb.be/en/classified/villa/for-sale/aywaille/4920/10651067\n",
      "https://www.immoweb.be/en/classified/mixed-use-building/for-sale/oud-heverlee/3050/10651623\n",
      "https://www.immoweb.be/en/classified/house/for-sale/machelen%20%28vlaams-brabant%29/1830/10652807\n",
      "https://www.immoweb.be/en/classified/house/for-sale/lievegem/9930/10651256\n",
      "https://www.immoweb.be/en/classified/villa/for-sale/oud-heverlee%20%28blanden%29/3052/10650829\n",
      "https://www.immoweb.be/en/classified/house/for-sale/woluwe-saint-pierre/1150/10653112\n",
      "https://www.immoweb.be/en/classified/exceptional-property/for-sale/brugge/8000/10650668\n",
      "https://www.immoweb.be/en/classified/villa/for-sale/rixensart/1332/10657786\n",
      "https://www.immoweb.be/en/classified/house/for-sale/remicourt/4350/10648897\n",
      "https://www.immoweb.be/en/classified/house/for-sale/dilbeek/1702/10648597\n"
     ]
    }
   ],
   "source": [
    "get_url()"
   ]
  }
 ],
 "metadata": {
  "kernelspec": {
   "display_name": "immovenv",
   "language": "python",
   "name": "python3"
  },
  "language_info": {
   "codemirror_mode": {
    "name": "ipython",
    "version": 3
   },
   "file_extension": ".py",
   "mimetype": "text/x-python",
   "name": "python",
   "nbconvert_exporter": "python",
   "pygments_lexer": "ipython3",
   "version": "3.11.3"
  },
  "orig_nbformat": 4
 },
 "nbformat": 4,
 "nbformat_minor": 2
}
