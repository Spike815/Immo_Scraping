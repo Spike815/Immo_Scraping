{
 "cells": [
  {
   "cell_type": "code",
   "execution_count": 127,
   "metadata": {},
   "outputs": [],
   "source": [
    "import requests\n",
    "from bs4 import BeautifulSoup\n",
    "import re"
   ]
  },
  {
   "cell_type": "code",
   "execution_count": 8,
   "metadata": {},
   "outputs": [
    {
     "name": "stdout",
     "output_type": "stream",
     "text": [
      "{\"status\":\"online\"}\n"
     ]
    }
   ],
   "source": [
    "root_url = \"https://www.immoweb.be/\"\n",
    "status_url = \"https://www.immoweb.be/status/\"\n",
    "req = requests.get(status_url)\n",
    "if req.status_code == 200:\n",
    "    print(req.text)\n",
    "else:\n",
    "    print(req.status_code)"
   ]
  },
  {
   "cell_type": "code",
   "execution_count": 148,
   "metadata": {},
   "outputs": [
    {
     "name": "stdout",
     "output_type": "stream",
     "text": [
      "[<th class=\"classified-table__header\" scope=\"row\">Available as of</th>, <th class=\"classified-table__header\" scope=\"row\">\n",
      "                                    Building condition\n",
      "                                </th>, <th class=\"classified-table__header\" scope=\"row\">\n",
      "                                    Street frontage width\n",
      "                                </th>, <th class=\"classified-table__header\" scope=\"row\">\n",
      "                                    Number of frontages\n",
      "                                </th>, <th class=\"classified-table__header\" scope=\"row\">Surroundings type</th>, <th class=\"classified-table__header\" scope=\"row\">\n",
      "                                    Living area\n",
      "                                </th>, <th class=\"classified-table__header\" scope=\"row\">Living room</th>, <th class=\"classified-table__header\" scope=\"row\">Dining room</th>, <th class=\"classified-table__header\" scope=\"row\">Kitchen type</th>, <th class=\"classified-table__header\" scope=\"row\">Bedrooms</th>, <th class=\"classified-table__header\" scope=\"row\">Bathrooms</th>, <th class=\"classified-table__header\" scope=\"row\">Shower rooms</th>, <th class=\"classified-table__header\" scope=\"row\">Toilets</th>, <th class=\"classified-table__header\" scope=\"row\">Basement</th>, <th class=\"classified-table__header\" scope=\"row\">Attic</th>, <th class=\"classified-table__header\" scope=\"row\">Surface of the plot</th>, <th class=\"classified-table__header\" scope=\"row\">Gas, water &amp; electricity</th>, <th class=\"classified-table__header\" scope=\"row\">Terrace</th>, <th class=\"classified-table__header\" scope=\"row\">\n",
      "                                    TV cable\n",
      "                                </th>, <th class=\"classified-table__header\" scope=\"row\">Primary energy consumption</th>, <th class=\"classified-table__header\" scope=\"row\">Energy class</th>, <th class=\"classified-table__header\" scope=\"row\">Reference number of the EPC report</th>, <th class=\"classified-table__header\" scope=\"row\">CO₂ emission</th>, <th class=\"classified-table__header\" scope=\"row\">\n",
      "                                Yearly theoretical total energy consumption\n",
      "                            </th>, <th class=\"classified-table__header\" scope=\"row\">Heating type</th>, <th class=\"classified-table__header\" scope=\"row\">Double glazing</th>, <th class=\"classified-table__header\" scope=\"row\">Planning permission obtained</th>, <th class=\"classified-table__header\" scope=\"row\">Possible priority purchase right</th>, <th class=\"classified-table__header\" scope=\"row\">Latest land use designation</th>, <th class=\"classified-table__header\" scope=\"row\">Price</th>, <th class=\"classified-table__header\" scope=\"row\">Cadastral income</th>, <th class=\"classified-table__header\">\n",
      "                                            Address\n",
      "                                        </th>, <th class=\"classified-table__header\">\n",
      "                                                Website\n",
      "                                            </th>]\n",
      "{}\n"
     ]
    }
   ],
   "source": [
    "sint_amands_url  = \"https://www.immoweb.be/en/classified/house/for-sale/st-amandsberg/9040/10482263\"\n",
    "\n",
    "sint_amands_content = requests.get(sint_amands_url).content\n",
    "soup = BeautifulSoup(sint_amands_content, \"html.parser\")\n",
    "\n",
    "soup_keys = soup.find_all('th',{'class':\"classified-table__header\"})\n",
    "soup_values = soup.find_all('td',{'class':\"classified-table__data\"})\n",
    "\n",
    "#soup_keys = list(soup_keys)\n",
    "#soup_values = list(soup_values)\n",
    "#print(soup_keys)\n",
    "\n",
    "#house_info = {}\n",
    "#zip(soup_keys , soup_values)\n",
    "\n",
    "print(house_info)\n",
    "\n",
    "\n",
    "\n"
   ]
  }
 ],
 "metadata": {
  "kernelspec": {
   "display_name": "immo_env",
   "language": "python",
   "name": "python3"
  },
  "language_info": {
   "codemirror_mode": {
    "name": "ipython",
    "version": 3
   },
   "file_extension": ".py",
   "mimetype": "text/x-python",
   "name": "python",
   "nbconvert_exporter": "python",
   "pygments_lexer": "ipython3",
   "version": "3.11.4"
  },
  "orig_nbformat": 4
 },
 "nbformat": 4,
 "nbformat_minor": 2
}
